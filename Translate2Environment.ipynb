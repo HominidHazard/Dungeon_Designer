{
 "cells": [
  {
   "cell_type": "code",
   "execution_count": 22,
   "metadata": {
    "collapsed": true
   },
   "outputs": [],
   "source": [
    "import pandas as pd\n",
    "import re"
   ]
  },
  {
   "cell_type": "code",
   "execution_count": 31,
   "metadata": {
    "collapsed": true
   },
   "outputs": [],
   "source": [
    "rclean = re.compile(r\"[ ]+\")"
   ]
  },
  {
   "cell_type": "code",
   "execution_count": 28,
   "metadata": {},
   "outputs": [
    {
     "data": {
      "text/html": [
       "<div>\n",
       "<table border=\"1\" class=\"dataframe\">\n",
       "  <thead>\n",
       "    <tr style=\"text-align: right;\">\n",
       "      <th></th>\n",
       "      <th>ansible                   2.4.1.0                   &lt;pip&gt;</th>\n",
       "    </tr>\n",
       "  </thead>\n",
       "  <tbody>\n",
       "    <tr>\n",
       "      <th>0</th>\n",
       "      <td>asn1crypto                0.23.0              ...</td>\n",
       "    </tr>\n",
       "    <tr>\n",
       "      <th>1</th>\n",
       "      <td>asn1crypto                0.22.0              ...</td>\n",
       "    </tr>\n",
       "    <tr>\n",
       "      <th>2</th>\n",
       "      <td>bcrypt                    3.1.4               ...</td>\n",
       "    </tr>\n",
       "    <tr>\n",
       "      <th>3</th>\n",
       "      <td>cffi                      1.11.2              ...</td>\n",
       "    </tr>\n",
       "    <tr>\n",
       "      <th>4</th>\n",
       "      <td>cffi                      1.10.0              ...</td>\n",
       "    </tr>\n",
       "  </tbody>\n",
       "</table>\n",
       "</div>"
      ],
      "text/plain": [
       "  ansible                   2.4.1.0                   <pip>\n",
       "0  asn1crypto                0.23.0              ...       \n",
       "1  asn1crypto                0.22.0              ...       \n",
       "2  bcrypt                    3.1.4               ...       \n",
       "3  cffi                      1.11.2              ...       \n",
       "4  cffi                      1.10.0              ...       "
      ]
     },
     "execution_count": 28,
     "metadata": {},
     "output_type": "execute_result"
    }
   ],
   "source": [
    "df = pd.read_table(\"./Dungeon_Designer/MacRequirements.txt\", skiprows=2)\n",
    "df.head()"
   ]
  },
  {
   "cell_type": "code",
   "execution_count": 29,
   "metadata": {
    "collapsed": true
   },
   "outputs": [],
   "source": [
    "delim=\"                   \""
   ]
  },
  {
   "cell_type": "code",
   "execution_count": 32,
   "metadata": {},
   "outputs": [
    {
     "data": {
      "text/plain": [
       "[['#', 'packages', 'in', 'environment', 'at', 'mac:'],\n",
       " ['#'],\n",
       " ['ansible', '2.4.1.0', '<pip>'],\n",
       " ['asn1crypto', '0.23.0', '<pip>'],\n",
       " ['asn1crypto', '0.22.0', 'py36_0', ''],\n",
       " ['bcrypt', '3.1.4', '<pip>'],\n",
       " ['cffi', '1.11.2', '<pip>'],\n",
       " ['cffi', '1.10.0', 'py36_0', ''],\n",
       " ['conda', '4.3.30', 'py36h173c244_0', ''],\n",
       " ['conda-env', '2.6.0', 'h36134e3_0', ''],\n",
       " ['cryptography', '1.8.1', 'py36_0', ''],\n",
       " ['cryptography', '2.1.2', '<pip>'],\n",
       " ['freetype', '2.5.5', '2', ''],\n",
       " ['google-api-python-client', '1.6.2', '<pip>'],\n",
       " ['httplib2', '0.10.3', '<pip>'],\n",
       " ['httpretty', '0.8.14', '<pip>'],\n",
       " ['idna', '2.6', '<pip>'],\n",
       " ['idna', '2.5', 'py36_0', ''],\n",
       " ['intel-openmp', '2018.0.0', 'h8158457_8', ''],\n",
       " ['jbig', '2.1', '0', ''],\n",
       " ['Jinja2', '2.9.6', '<pip>'],\n",
       " ['jpeg', '9b', '0', ''],\n",
       " ['libgfortran', '3.0.1', 'h93005f0_2', ''],\n",
       " ['libpng', '1.6.30', '1', ''],\n",
       " ['libtiff', '4.0.6', '3', ''],\n",
       " ['MarkupSafe', '1.0', '<pip>'],\n",
       " ['mkl', '2018.0.1', 'hfbd8650_4', ''],\n",
       " ['numpy', '1.13.3', 'py36h2cdce51_0', ''],\n",
       " ['oauth2client', '4.1.2', '<pip>'],\n",
       " ['olefile', '0.44', 'py36_0', ''],\n",
       " ['openssl', '1.0.2l', '0', ''],\n",
       " ['packaging', '16.8', 'py36_0', ''],\n",
       " ['paramiko', '2.3.1', '<pip>'],\n",
       " ['pillow', '4.2.1', 'py36_0', ''],\n",
       " ['pip', '9.0.1', 'py36_1', ''],\n",
       " ['py', '1.4.34', '<pip>'],\n",
       " ['pyasn1', '0.3.7', '<pip>'],\n",
       " ['pyasn1-modules', '0.0.11', '<pip>'],\n",
       " ['pycosat', '0.6.2', 'py36_0', ''],\n",
       " ['pycparser', '2.18', '<pip>'],\n",
       " ['pycparser', '2.17', 'py36_0', ''],\n",
       " ['PyDrive', '1.3.1', '<pip>'],\n",
       " ['PyNaCl', '1.2.0', '<pip>'],\n",
       " ['pyopenssl', '17.0.0', 'py36_0', ''],\n",
       " ['pyparsing', '2.1.4', 'py36_0', ''],\n",
       " ['pytest', '3.2.0', '<pip>'],\n",
       " ['python', '3.6.1', '2', ''],\n",
       " ['PyYAML', '3.12', '<pip>'],\n",
       " ['readline', '6.2', '2', ''],\n",
       " ['requests', '2.14.2', 'py36_0', ''],\n",
       " ['rsa', '3.4.2', '<pip>'],\n",
       " ['ruamel_yaml', '0.11.14', 'py36_1', ''],\n",
       " ['setuptools', '27.2.0', 'py36_0', ''],\n",
       " ['setuptools', '36.6.0', '<pip>'],\n",
       " ['six', '1.10.0', 'py36_0', ''],\n",
       " ['six', '1.11.0', '<pip>'],\n",
       " ['sqlite', '3.13.0', '0', ''],\n",
       " ['tk', '8.5.18', '0', ''],\n",
       " ['Trolly', '0.2.2', '<pip>'],\n",
       " ['uritemplate', '3.0.0', '<pip>'],\n",
       " ['wheel', '0.29.0', 'py36_0', ''],\n",
       " ['xz', '5.2.2', '1', ''],\n",
       " ['yaml', '0.1.6', '0', ''],\n",
       " ['zlib', '1.2.8', '3', '\\r'],\n",
       " ['']]"
      ]
     },
     "execution_count": 32,
     "metadata": {},
     "output_type": "execute_result"
    }
   ],
   "source": [
    "with open(\"./Dungeon_Designer/MacRequirements.txt\", 'rb') as f0:\n",
    "    txt = f0.read().decode()\n",
    "txt = rclean.sub(\"\\t\", txt)\n",
    "txt = txt.split(\"\\n\")\n",
    "txt = [t.split(\"\\t\") for t in txt]\n",
    "txt"
   ]
  },
  {
   "cell_type": "code",
   "execution_count": 35,
   "metadata": {},
   "outputs": [],
   "source": [
    "pip = [t for t in txt[2:-1] if t[2] == '<pip>']\n",
    "conda = [t for t in txt[2:-1] if t[2] != '<pip>']"
   ]
  },
  {
   "cell_type": "code",
   "execution_count": 36,
   "metadata": {},
   "outputs": [
    {
     "data": {
      "text/plain": [
       "[['asn1crypto', '0.22.0', 'py36_0', ''],\n",
       " ['cffi', '1.10.0', 'py36_0', ''],\n",
       " ['conda', '4.3.30', 'py36h173c244_0', ''],\n",
       " ['conda-env', '2.6.0', 'h36134e3_0', ''],\n",
       " ['cryptography', '1.8.1', 'py36_0', ''],\n",
       " ['freetype', '2.5.5', '2', ''],\n",
       " ['idna', '2.5', 'py36_0', ''],\n",
       " ['intel-openmp', '2018.0.0', 'h8158457_8', ''],\n",
       " ['jbig', '2.1', '0', ''],\n",
       " ['jpeg', '9b', '0', ''],\n",
       " ['libgfortran', '3.0.1', 'h93005f0_2', ''],\n",
       " ['libpng', '1.6.30', '1', ''],\n",
       " ['libtiff', '4.0.6', '3', ''],\n",
       " ['mkl', '2018.0.1', 'hfbd8650_4', ''],\n",
       " ['numpy', '1.13.3', 'py36h2cdce51_0', ''],\n",
       " ['olefile', '0.44', 'py36_0', ''],\n",
       " ['openssl', '1.0.2l', '0', ''],\n",
       " ['packaging', '16.8', 'py36_0', ''],\n",
       " ['pillow', '4.2.1', 'py36_0', ''],\n",
       " ['pip', '9.0.1', 'py36_1', ''],\n",
       " ['pycosat', '0.6.2', 'py36_0', ''],\n",
       " ['pycparser', '2.17', 'py36_0', ''],\n",
       " ['pyopenssl', '17.0.0', 'py36_0', ''],\n",
       " ['pyparsing', '2.1.4', 'py36_0', ''],\n",
       " ['python', '3.6.1', '2', ''],\n",
       " ['readline', '6.2', '2', ''],\n",
       " ['requests', '2.14.2', 'py36_0', ''],\n",
       " ['ruamel_yaml', '0.11.14', 'py36_1', ''],\n",
       " ['setuptools', '27.2.0', 'py36_0', ''],\n",
       " ['six', '1.10.0', 'py36_0', ''],\n",
       " ['sqlite', '3.13.0', '0', ''],\n",
       " ['tk', '8.5.18', '0', ''],\n",
       " ['wheel', '0.29.0', 'py36_0', ''],\n",
       " ['xz', '5.2.2', '1', ''],\n",
       " ['yaml', '0.1.6', '0', ''],\n",
       " ['zlib', '1.2.8', '3', '\\r']]"
      ]
     },
     "execution_count": 36,
     "metadata": {},
     "output_type": "execute_result"
    }
   ],
   "source": [
    "conda"
   ]
  },
  {
   "cell_type": "code",
   "execution_count": 41,
   "metadata": {
    "collapsed": true
   },
   "outputs": [],
   "source": [
    "with open(\"environment.yml\", \"w\") as f0:\n",
    "    f0.write(\"name: dungeon\\n\")\n",
    "    f0.write(\"channels:\\n\")\n",
    "    f0.write(\"- ioam\\n\")\n",
    "    f0.write(\"- defaults\\n\")\n",
    "    f0.write(\"dependencies:\\n\")\n",
    "    for c in conda:\n",
    "        f0.write(\"- %s=%s=%s\\n\"%(c[0], c[1], c[2]))\n",
    "    f0.write(\"- pip:\\n\")\n",
    "    for p in pip:\n",
    "        f0.write(\"  - %s==%s\\n\"%(p[0], p[1]))\n",
    "    f0.write(\"prefix: /Users/brian/anaconda3/env/dungeon\\n\")\n",
    "    "
   ]
  },
  {
   "cell_type": "code",
   "execution_count": null,
   "metadata": {
    "collapsed": true
   },
   "outputs": [],
   "source": []
  }
 ],
 "metadata": {
  "kernelspec": {
   "display_name": "Python 3",
   "language": "python",
   "name": "python3"
  },
  "language_info": {
   "codemirror_mode": {
    "name": "ipython",
    "version": 3
   },
   "file_extension": ".py",
   "mimetype": "text/x-python",
   "name": "python",
   "nbconvert_exporter": "python",
   "pygments_lexer": "ipython3",
   "version": "3.5.2"
  }
 },
 "nbformat": 4,
 "nbformat_minor": 2
}
